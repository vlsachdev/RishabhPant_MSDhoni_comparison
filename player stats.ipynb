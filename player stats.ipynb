{
 "cells": [
  {
   "cell_type": "code",
   "execution_count": null,
   "id": "3f466b7f",
   "metadata": {},
   "outputs": [],
   "source": [
    "!pip install plotnine"
   ]
  },
  {
   "cell_type": "code",
   "execution_count": 5,
   "id": "09651cb1",
   "metadata": {},
   "outputs": [],
   "source": [
    "import pandas as pd\n",
    "from plotnine import *"
   ]
  },
  {
   "cell_type": "code",
   "execution_count": 3,
   "id": "d6a7fc7d",
   "metadata": {},
   "outputs": [
    {
     "data": {
      "text/plain": [
       "'C:\\\\Users\\\\VINEET\\\\Desktop\\\\python_test\\\\project_3'"
      ]
     },
     "execution_count": 3,
     "metadata": {},
     "output_type": "execute_result"
    }
   ],
   "source": [
    "import os\n",
    "os.getcwd()"
   ]
  },
  {
   "cell_type": "code",
   "execution_count": 6,
   "id": "c1beb756",
   "metadata": {},
   "outputs": [
    {
     "data": {
      "text/html": [
       "<div>\n",
       "<style scoped>\n",
       "    .dataframe tbody tr th:only-of-type {\n",
       "        vertical-align: middle;\n",
       "    }\n",
       "\n",
       "    .dataframe tbody tr th {\n",
       "        vertical-align: top;\n",
       "    }\n",
       "\n",
       "    .dataframe thead th {\n",
       "        text-align: right;\n",
       "    }\n",
       "</style>\n",
       "<table border=\"1\" class=\"dataframe\">\n",
       "  <thead>\n",
       "    <tr style=\"text-align: right;\">\n",
       "      <th></th>\n",
       "      <th>Runs</th>\n",
       "      <th>Minutes</th>\n",
       "      <th>Balls_faced</th>\n",
       "    </tr>\n",
       "  </thead>\n",
       "  <tbody>\n",
       "    <tr>\n",
       "      <th>0</th>\n",
       "      <td>30.0</td>\n",
       "      <td>83.0</td>\n",
       "      <td>54.0</td>\n",
       "    </tr>\n",
       "    <tr>\n",
       "      <th>1</th>\n",
       "      <td>5.0</td>\n",
       "      <td>19.0</td>\n",
       "      <td>12.0</td>\n",
       "    </tr>\n",
       "    <tr>\n",
       "      <th>2</th>\n",
       "      <td>51.0</td>\n",
       "      <td>83.0</td>\n",
       "      <td>51.0</td>\n",
       "    </tr>\n",
       "    <tr>\n",
       "      <th>3</th>\n",
       "      <td>49.0</td>\n",
       "      <td>100.0</td>\n",
       "      <td>62.0</td>\n",
       "    </tr>\n",
       "    <tr>\n",
       "      <th>4</th>\n",
       "      <td>14.0</td>\n",
       "      <td>26.0</td>\n",
       "      <td>20.0</td>\n",
       "    </tr>\n",
       "  </tbody>\n",
       "</table>\n",
       "</div>"
      ],
      "text/plain": [
       "   Runs  Minutes  Balls_faced\n",
       "0  30.0     83.0         54.0\n",
       "1   5.0     19.0         12.0\n",
       "2  51.0     83.0         51.0\n",
       "3  49.0    100.0         62.0\n",
       "4  14.0     26.0         20.0"
      ]
     },
     "execution_count": 6,
     "metadata": {},
     "output_type": "execute_result"
    }
   ],
   "source": [
    "dhoni = pd.read_excel(\"players_stats.xlsx\",sheet_name='dhoni_stats',usecols = \"A:C\")\n",
    "dhoni.head()"
   ]
  },
  {
   "cell_type": "code",
   "execution_count": 7,
   "id": "2c2560b7",
   "metadata": {},
   "outputs": [
    {
     "name": "stderr",
     "output_type": "stream",
     "text": [
      "C:\\Users\\VINEET\\scoop\\apps\\pyenv\\current\\pyenv-win\\versions\\3.10.3\\lib\\site-packages\\plotnine\\layer.py:412: PlotnineWarning: geom_point : Removed 1 rows containing missing values.\n"
     ]
    },
    {
     "data": {
      "image/png": "[encoded data removed]",
      "text/plain": [
       "<Figure size 432x288 with 1 Axes>"
      ]
     },
     "metadata": {},
     "output_type": "display_data"
    },
    {
     "data": {
      "text/plain": [
       "<ggplot: (156198567609)>"
      ]
     },
     "execution_count": 7,
     "metadata": {},
     "output_type": "execute_result"
    }
   ],
   "source": [
    "dhoni_chart = (\n",
    "                ggplot(dhoni, aes(x = 'Balls_faced', y = 'Runs', size = 'Minutes'))\n",
    "                + geom_point(color='skyblue')\n",
    "                + scale_size_area() \n",
    "                + xlim(0,200)\n",
    "                + ylim(0,200)\n",
    "                +labs(x = \"Balls faced\",\n",
    "                     title =\"MS Dhoni Stats\")\n",
    "\n",
    "                + theme_bw()\n",
    "\n",
    "                )\n",
    "dhoni_chart   "
   ]
  },
  {
   "cell_type": "code",
   "execution_count": 8,
   "id": "a0e4c465",
   "metadata": {},
   "outputs": [
    {
     "name": "stderr",
     "output_type": "stream",
     "text": [
      "C:\\Users\\VINEET\\scoop\\apps\\pyenv\\current\\pyenv-win\\versions\\3.10.3\\lib\\site-packages\\plotnine\\ggplot.py:718: PlotnineWarning: Saving 6.4 x 4.8 in image.\n",
      "C:\\Users\\VINEET\\scoop\\apps\\pyenv\\current\\pyenv-win\\versions\\3.10.3\\lib\\site-packages\\plotnine\\ggplot.py:719: PlotnineWarning: Filename: dhoni_stats.svg\n",
      "C:\\Users\\VINEET\\scoop\\apps\\pyenv\\current\\pyenv-win\\versions\\3.10.3\\lib\\site-packages\\plotnine\\layer.py:412: PlotnineWarning: geom_point : Removed 1 rows containing missing values.\n"
     ]
    }
   ],
   "source": [
    "dhoni_chart.save(\"dhoni_stats.svg\")\n",
    "#dhoni_chart"
   ]
  },
  {
   "cell_type": "code",
   "execution_count": 9,
   "id": "c600cb58",
   "metadata": {},
   "outputs": [],
   "source": [
    "# plotting scatter plot charts for Rishabh pant"
   ]
  },
  {
   "cell_type": "code",
   "execution_count": 10,
   "id": "6ea2fc08",
   "metadata": {},
   "outputs": [
    {
     "data": {
      "text/html": [
       "<div>\n",
       "<style scoped>\n",
       "    .dataframe tbody tr th:only-of-type {\n",
       "        vertical-align: middle;\n",
       "    }\n",
       "\n",
       "    .dataframe tbody tr th {\n",
       "        vertical-align: top;\n",
       "    }\n",
       "\n",
       "    .dataframe thead th {\n",
       "        text-align: right;\n",
       "    }\n",
       "</style>\n",
       "<table border=\"1\" class=\"dataframe\">\n",
       "  <thead>\n",
       "    <tr style=\"text-align: right;\">\n",
       "      <th></th>\n",
       "      <th>Runs</th>\n",
       "      <th>Minutes</th>\n",
       "      <th>Balls_faced</th>\n",
       "    </tr>\n",
       "  </thead>\n",
       "  <tbody>\n",
       "    <tr>\n",
       "      <th>0</th>\n",
       "      <td>24</td>\n",
       "      <td>72</td>\n",
       "      <td>51</td>\n",
       "    </tr>\n",
       "    <tr>\n",
       "      <th>1</th>\n",
       "      <td>1</td>\n",
       "      <td>6</td>\n",
       "      <td>6</td>\n",
       "    </tr>\n",
       "    <tr>\n",
       "      <th>2</th>\n",
       "      <td>0</td>\n",
       "      <td>47</td>\n",
       "      <td>29</td>\n",
       "    </tr>\n",
       "    <tr>\n",
       "      <th>3</th>\n",
       "      <td>18</td>\n",
       "      <td>21</td>\n",
       "      <td>12</td>\n",
       "    </tr>\n",
       "    <tr>\n",
       "      <th>4</th>\n",
       "      <td>5</td>\n",
       "      <td>10</td>\n",
       "      <td>8</td>\n",
       "    </tr>\n",
       "  </tbody>\n",
       "</table>\n",
       "</div>"
      ],
      "text/plain": [
       "   Runs  Minutes  Balls_faced\n",
       "0    24       72           51\n",
       "1     1        6            6\n",
       "2     0       47           29\n",
       "3    18       21           12\n",
       "4     5       10            8"
      ]
     },
     "execution_count": 10,
     "metadata": {},
     "output_type": "execute_result"
    }
   ],
   "source": [
    "pant = pd.read_excel(\"players_stats.xlsx\",sheet_name='pant_stats',usecols = \"A:C\")\n",
    "pant.head()"
   ]
  },
  {
   "cell_type": "code",
   "execution_count": 11,
   "id": "50f8c5fb",
   "metadata": {},
   "outputs": [
    {
     "data": {
      "image/png": "[encoded data removed]",
      "text/plain": [
       "<Figure size 640x480 with 1 Axes>"
      ]
     },
     "metadata": {},
     "output_type": "display_data"
    },
    {
     "data": {
      "text/plain": [
       "<ggplot: (156200854766)>"
      ]
     },
     "execution_count": 11,
     "metadata": {},
     "output_type": "execute_result"
    }
   ],
   "source": [
    "pant_chart = (\n",
    "                ggplot(pant, aes(x = 'Balls_faced', y = 'Runs', size = 'Minutes'))\n",
    "                + geom_point(color='grey')\n",
    "                + scale_size_area() \n",
    "                + xlim(0,200)\n",
    "                + ylim(0,200)\n",
    "                +labs(x = \"Balls faced\",\n",
    "                     title =\"Rishabh Pant Stats\")\n",
    "\n",
    "                + theme_bw()\n",
    "\n",
    "                )\n",
    "pant_chart   "
   ]
  },
  {
   "cell_type": "code",
   "execution_count": 12,
   "id": "01782f5b",
   "metadata": {},
   "outputs": [
    {
     "name": "stderr",
     "output_type": "stream",
     "text": [
      "C:\\Users\\VINEET\\scoop\\apps\\pyenv\\current\\pyenv-win\\versions\\3.10.3\\lib\\site-packages\\plotnine\\ggplot.py:718: PlotnineWarning: Saving 6.4 x 4.8 in image.\n",
      "C:\\Users\\VINEET\\scoop\\apps\\pyenv\\current\\pyenv-win\\versions\\3.10.3\\lib\\site-packages\\plotnine\\ggplot.py:719: PlotnineWarning: Filename: pant_stats.svg\n"
     ]
    }
   ],
   "source": [
    "pant_chart.save(\"pant_stats.svg\")\n",
    "#pant_chart"
   ]
  },
  {
   "cell_type": "code",
   "execution_count": null,
   "id": "ad7c5827",
   "metadata": {},
   "outputs": [],
   "source": []
  }
 ],
 "metadata": {
  "kernelspec": {
   "display_name": "Python 3 (ipykernel)",
   "language": "python",
   "name": "python3"
  },
  "language_info": {
   "codemirror_mode": {
    "name": "ipython",
    "version": 3
   },
   "file_extension": ".py",
   "mimetype": "text/x-python",
   "name": "python",
   "nbconvert_exporter": "python",
   "pygments_lexer": "ipython3",
   "version": "3.10.3"
  }
 },
 "nbformat": 4,
 "nbformat_minor": 5
}
